{
 "cells": [
  {
   "cell_type": "markdown",
   "metadata": {
    "slideshow": {
     "slide_type": "slide"
    }
   },
   "source": [
    "# P21 Introduction Textmining"
   ]
  },
  {
   "cell_type": "markdown",
   "metadata": {
    "slideshow": {
     "slide_type": "slide"
    }
   },
   "source": [
    "## Agenda"
   ]
  },
  {
   "cell_type": "markdown",
   "metadata": {},
   "source": [
    "Natural Language Processing\\\n",
    "Information extraction architecture\\\n",
    "Topic modelling\n",
    "\n",
    "Textmining toolstacks\n",
    "* in python\n",
    "    * [NLTK](https://www.nltk.org/)\n",
    "    * [spaCy](https://spacy.io/)\n",
    "    * notebook examples\n",
    "* in R\n",
    "    * tm package\n",
    "    * [tidytext](https://www.tidytextmining.com/index.html)"
   ]
  },
  {
   "cell_type": "markdown",
   "metadata": {
    "slideshow": {
     "slide_type": "slide"
    }
   },
   "source": [
    "## Natural Language Processing\n",
    "\n",
    "The term Natural __Language Processing__ encompasses a broad set of techniques\n",
    "__for automated generation, manipulation and analysis of natural or human\n",
    "languages__.\n",
    "\n",
    "Although most NLP techniques inherit largely from Linguistics and Artificial\n",
    "Intelligence, they are also influenced by relatively newer areas such as\n",
    "Machine Learning, Computational Statistics and Cognitive Science."
   ]
  },
  {
   "cell_type": "markdown",
   "metadata": {
    "slideshow": {
     "slide_type": "slide"
    }
   },
   "source": [
    "## Can Humans Parse Natural Language?\n",
    "\n",
    "<div id=\"left\", class=\"smaller\">\n",
    "\n",
    "__Usually not !!!__\n",
    "We make mistakes on complex parsing structures\\\n",
    "We can’t parse without world knowledge and lexical knowledge\n",
    "* Need to know what we’re talking about\n",
    "* Need to know the words used\n",
    "\n",
    "__Garden Path Sentences__ (sentences usually not correctly parsed by humans)\n",
    "* While she hunted the deer ran into the woods.\n",
    "* The woman who whistles tunes pianos.\n",
    "Confusing without context, sometimes even with\\\n",
    "Early semantic/pragmatic feedback in syntactic discrimination\n",
    "\n",
    "__Center Embedding__\\\n",
    "Leads to “stack overflow”\n",
    "* The mouse ran.\n",
    "* The mouse the cat chased ran.\n",
    "* The mouse the cat the dog bit chased ran.\n",
    "* The mouse the cat the dog the person petted bit chased ran\n",
    "</div>\n",
    "<div id=\"right\", class=\"smaller\">\n",
    "\n",
    "<span style=\"color:red\">__Problem is ambiguity and eager decision making.__\\\n",
    "We can only keep a few analyses in memory at a time!</span>\n",
    "\n",
    "![](./png/thomas_bever.png)\n",
    "\n",
    "Thomas Bever\n",
    "</div>"
   ]
  },
  {
   "cell_type": "markdown",
   "metadata": {
    "slideshow": {
     "slide_type": "slide"
    }
   },
   "source": [
    "## Information Extraction Architecture\n",
    "\n",
    "<img align=\"middle\" src=\"./png/Information_extraction_architecture.png\" width=\"800\"/>"
   ]
  },
  {
   "cell_type": "markdown",
   "metadata": {
    "slideshow": {
     "slide_type": "slide"
    }
   },
   "source": [
    "## Some Basic Terminology\n",
    "\n",
    "* __Token__: Before any real processing can be done on the input text, it needs to be segmented into linguistic units such as\n",
    "words, punctuation, numbers or alphanumerics. These units are known as tokens.\n",
    "* __Sentence__: An ordered sequence of tokens.\n",
    "* __Tokenization__: The process of splitting a sentence into its constituent tokens. For segmented languages such as\n",
    "English, the existence of whitespace makes tokenization relatively easier and uninteresting. However, for languages such as Chinese and Arabic, the task is more difficult since there are no explicit boundaries. \n",
    "* __Corpus__: A body of text, usually containing a large number of sentences.\n",
    "* __Part-of-speech (POS) Tag__: A word can be classified into one or more of a set of lexical or part-of-speech categories such as Nouns, Verbs, Adjectives and Articles, to name a few. A POS tag is a symbol representing such a lexical category - NN(Noun), VB(Verb), JJ(Adjective), AT(Article). One of the oldest and most commonly used tag sets is the Brown Corpus tag set.\n",
    "* __Parse Tree__: A tree defined over a given sentence that represents the syntactic structure of the sentence as defined by a formal grammar."
   ]
  },
  {
   "cell_type": "markdown",
   "metadata": {
    "slideshow": {
     "slide_type": "slide"
    }
   },
   "source": [
    "## Tokenization\n",
    "\n",
    "Tokenizers divide strings into lists of substrings.\n",
    "\n",
    "For example, tokenizers can be used to find the list of sentences or words in a string."
   ]
  },
  {
   "cell_type": "markdown",
   "metadata": {
    "slideshow": {
     "slide_type": "slide"
    }
   },
   "source": [
    "## Stemming\n",
    "\n",
    "Stemmers remove morphological affixes from words, leaving only the word stem [online demo](http://text-processing.com/demo/stem/).\n",
    "\n",
    "Simple stemmers:\\\n",
    "Plural(meervoud)\\\n",
    "Verbs(werkwoorden)\n",
    "\n",
    "Different Stemming Algorithms:\n",
    "* Paice/Husk Stemming Algorithm\n",
    "* Porter Stemming Algorithm\n",
    "* Lovins Stemming Algorithm\n",
    "* Dawson Stemming Algorithm\n",
    "* Krovetz Stemming Algorithm"
   ]
  },
  {
   "cell_type": "markdown",
   "metadata": {
    "slideshow": {
     "slide_type": "slide"
    }
   },
   "source": [
    "## Parts of Speech Tagging (PoS tagging)\n",
    "\n",
    "Parts of Speech Tagging (PoS tagging) is assigning Parts of Speech to the words in a text [online demo](https://corenlp.run/).\n",
    "\n",
    "    Als vliegen vliegen vliegen vliegen vliegensvlug.\n",
    "    Als/CONJ vliegen/NN vliegen/VB vliegen/VB vliegen/NN vliegensvlug/ADV\n",
    "\n",
    "PoS tagging is a kind of word sense disambiguation: the PoS tag gives some information about the sense of the word in the context of use. It is a non-trivial task:\n",
    "\n",
    "* Some words (at least in a sense of this word) that occur in the lexicon or dictionary have more than one possible Part of Speech. Like: \"vliegen\", it can be a noun as well as a verb.\\\n",
    "Note that even if we restrict to verbs the word “vliegen” has several senses: \"Een vogel kan vliegen\", \"Als de bom valt vliegen de mensen uiteen.\"\n",
    "* Some words are unknown.\n",
    "* Tags are not well-defined. In \"Wat fietsen\" is “fietsen” a Noun or a Verb ?"
   ]
  },
  {
   "cell_type": "markdown",
   "metadata": {
    "slideshow": {
     "slide_type": "slide"
    }
   },
   "source": [
    "## Parse Tree example\n",
    "\n",
    "<img align=\"middle\" src=\"./png/parse_tree_example.png\" width=\"800\"/>"
   ]
  },
  {
   "cell_type": "markdown",
   "metadata": {
    "slideshow": {
     "slide_type": "slide"
    }
   },
   "source": [
    "## Chunking\n",
    "\n",
    "<img align=\"middle\" src=\"./png/chunking.png\" width=\"600\"/>\n",
    "\n",
    "The basic technique we will use for entity detection is chunking, which\n",
    "segments and labels multi-token sequences as illustrated above.\n",
    "\n",
    "The smaller boxes show the word-level tokenization and part-of-speech\n",
    "tagging, while the large boxes show higher-level chunking. Each of these\n",
    "larger boxes is called a chunk."
   ]
  },
  {
   "cell_type": "markdown",
   "metadata": {
    "slideshow": {
     "slide_type": "slide"
    }
   },
   "source": [
    "## Universal Part-of-Speech Tagset\n",
    "\n",
    "<img align=\"middle\" src=\"./png/universal_part_of_speech_tagset.png\" width=\"600\"/>\n"
   ]
  },
  {
   "cell_type": "markdown",
   "metadata": {
    "slideshow": {
     "slide_type": "slide"
    }
   },
   "source": [
    "## Named Entity Recognition\n",
    "\n",
    "Er zijn websites en API ‘s die dit process voor je kunnen doen.\n",
    "\n",
    "Bijvoorbeeld:\n",
    "http://text-processing.com/demo/"
   ]
  },
  {
   "cell_type": "markdown",
   "metadata": {
    "slideshow": {
     "slide_type": "slide"
    }
   },
   "source": [
    "## Recap: Natural Language Processing\n",
    "\n",
    "* Tokenise\n",
    "* Stemming\n",
    "* Tagging\n",
    "* Chunking\n",
    "* Entity Recognition\n",
    "\n",
    "<img align=\"middle\" src=\"./png/nlp.png\" width=\"600\"/>\n"
   ]
  },
  {
   "cell_type": "markdown",
   "metadata": {
    "slideshow": {
     "slide_type": "slide"
    }
   },
   "source": [
    "### FROG\n",
    "\n",
    "For Dutch language : [frog](https://languagemachines.github.io/frog/)"
   ]
  },
  {
   "cell_type": "markdown",
   "metadata": {
    "slideshow": {
     "slide_type": "slide"
    }
   },
   "source": [
    "## Textmining in python\n",
    "\n",
    "Textmining and natural language processing has become a huge field of research...\n",
    "\n",
    "* [NLTK](https://www.nltk.org/)\n",
    "* [spaCy](https://spacy.io/)\n",
    "* [Gensim](https://radimrehurek.com/gensim/)\n",
    "\n",
    "Deeplearning advancements in natural language processing are enormous, see [huggingface](https://huggingface.co/)\n",
    "\n",
    "* word embedding (tensorflow embedding projector [demo](https://projector.tensorflow.org/\n",
    "))\n",
    "* [transformers](https://towardsdatascience.com/transformers-explained-visually-part-1-overview-of-functionality-95a6dd460452)\n",
    "* automatic translation\n",
    "* automatic summary\n",
    "* automatic Q&A chatbots"
   ]
  },
  {
   "cell_type": "markdown",
   "metadata": {
    "slideshow": {
     "slide_type": "slide"
    }
   },
   "source": [
    "## Jupyter notebook basic examples\n",
    "\n",
    "Start jupyter notebook server and play around with some examples:\n",
    "\n",
    "    jupyter notebook\n",
    "\n",
    "![](./png/jupyter_notebook.png)"
   ]
  },
  {
   "cell_type": "markdown",
   "metadata": {
    "slideshow": {
     "slide_type": "slide"
    }
   },
   "source": [
    "## Questions?"
   ]
  }
 ],
 "metadata": {
  "celltoolbar": "Slideshow",
  "kernelspec": {
   "display_name": "Python 3 (ipykernel)",
   "language": "python",
   "name": "python3"
  },
  "language_info": {
   "codemirror_mode": {
    "name": "ipython",
    "version": 3
   },
   "file_extension": ".py",
   "mimetype": "text/x-python",
   "name": "python",
   "nbconvert_exporter": "python",
   "pygments_lexer": "ipython3",
   "version": "3.9.7"
  },
  "rise": {
   "autolaunch": false,
   "backimage": "./png/python-achtergrond-dikw-licht.png",
   "enable_chalkboard": true,
   "scroll": true,
   "theme": "simpel"
  }
 },
 "nbformat": 4,
 "nbformat_minor": 2
}
