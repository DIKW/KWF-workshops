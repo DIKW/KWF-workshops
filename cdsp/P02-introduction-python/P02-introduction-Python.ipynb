{
 "cells": [
  {
   "cell_type": "markdown",
   "metadata": {
    "slideshow": {
     "slide_type": "slide"
    }
   },
   "source": [
    "# Module P02-introduction-Python\n",
    "\n",
    "Welcome to the course \"CPP Data Science & AI\"!\n",
    "\n"
   ]
  },
  {
   "cell_type": "markdown",
   "metadata": {
    "slideshow": {
     "slide_type": "slide"
    }
   },
   "source": [
    "## Jupyter notebooks\n",
    "\n",
    "During this course, you will learn Python via Jupyter notebooks. \n",
    "\n",
    "Jupyter notebooks are composed of cells. In each cell, you can write text, or code chunks. When running a cell, the code will be executed and its output displayed. \n",
    "\n",
    "Jupyter notebooks are interactive, which means that you can easily modify the contents of a cell, and see whether the output is to your liking or not.\n",
    "\n",
    "Another advantage of Jupyter notebooks is that they can be converted to a slidedeck. All presentations in this course are made by converting Jupyter notebooks to a slidedeck."
   ]
  },
  {
   "cell_type": "markdown",
   "metadata": {
    "slideshow": {
     "slide_type": "slide"
    }
   },
   "source": [
    "## Basics\n",
    "\n",
    "Let's try to add two numbers"
   ]
  },
  {
   "cell_type": "code",
   "execution_count": 1,
   "metadata": {},
   "outputs": [
    {
     "data": {
      "text/plain": [
       "2"
      ]
     },
     "execution_count": 1,
     "metadata": {},
     "output_type": "execute_result"
    }
   ],
   "source": [
    "1+1"
   ]
  },
  {
   "cell_type": "markdown",
   "metadata": {},
   "source": [
    "Assign a value to a variable"
   ]
  },
  {
   "cell_type": "code",
   "execution_count": 2,
   "metadata": {},
   "outputs": [
    {
     "name": "stdout",
     "output_type": "stream",
     "text": [
      "5\n"
     ]
    }
   ],
   "source": [
    "# the \"=\" is used to assign a value to a variable in Python\n",
    "\n",
    "x = 5\n",
    "print(x) # the print statement is used to check the value of x"
   ]
  },
  {
   "cell_type": "code",
   "execution_count": 3,
   "metadata": {},
   "outputs": [
    {
     "data": {
      "text/plain": [
       "8"
      ]
     },
     "execution_count": 3,
     "metadata": {},
     "output_type": "execute_result"
    }
   ],
   "source": [
    "y = 3\n",
    "x + y"
   ]
  },
  {
   "cell_type": "markdown",
   "metadata": {
    "slideshow": {
     "slide_type": "slide"
    }
   },
   "source": [
    "### Variable types\n",
    "\n",
    "With the type() function, you can check the variable type. When assigning a value to a variable, you do not have to declare the variable upfront. Python will set the variable type for you, based on the value assigned to the variable."
   ]
  },
  {
   "cell_type": "code",
   "execution_count": 4,
   "metadata": {},
   "outputs": [
    {
     "data": {
      "text/plain": [
       "int"
      ]
     },
     "execution_count": 4,
     "metadata": {},
     "output_type": "execute_result"
    }
   ],
   "source": [
    "type(x) # the variable type is an integer, a whole number"
   ]
  },
  {
   "cell_type": "code",
   "execution_count": 5,
   "metadata": {},
   "outputs": [
    {
     "data": {
      "text/plain": [
       "float"
      ]
     },
     "execution_count": 5,
     "metadata": {},
     "output_type": "execute_result"
    }
   ],
   "source": [
    "z = 5.0\n",
    "type(z) # the variable type is a float, a number with at least one decimal place"
   ]
  },
  {
   "cell_type": "code",
   "execution_count": 6,
   "metadata": {},
   "outputs": [
    {
     "data": {
      "text/plain": [
       "True"
      ]
     },
     "execution_count": 6,
     "metadata": {},
     "output_type": "execute_result"
    }
   ],
   "source": [
    "# x and z have the exact same values assigned\n",
    "x == z"
   ]
  },
  {
   "cell_type": "code",
   "execution_count": 7,
   "metadata": {},
   "outputs": [
    {
     "data": {
      "text/plain": [
       "False"
      ]
     },
     "execution_count": 7,
     "metadata": {},
     "output_type": "execute_result"
    }
   ],
   "source": [
    "# ... but the variable types are not the same\n",
    "x is z"
   ]
  },
  {
   "cell_type": "markdown",
   "metadata": {
    "slideshow": {
     "slide_type": "slide"
    }
   },
   "source": [
    "## Python object types\n",
    "\n",
    "4 important Python objects are:\n",
    "\n",
    "- strings\n",
    "- lists\n",
    "- dictionaries\n",
    "- tuples\n",
    "\n",
    "In this module, we will explain strings, lists and dictionaries."
   ]
  },
  {
   "cell_type": "markdown",
   "metadata": {
    "slideshow": {
     "slide_type": "slide"
    }
   },
   "source": [
    "### Python object type 1: strings\n",
    "\n",
    "A string is a sequence of characters. "
   ]
  },
  {
   "cell_type": "code",
   "execution_count": 8,
   "metadata": {
    "slideshow": {
     "slide_type": "-"
    }
   },
   "outputs": [
    {
     "data": {
      "text/plain": [
       "str"
      ]
     },
     "execution_count": 8,
     "metadata": {},
     "output_type": "execute_result"
    }
   ],
   "source": [
    "# to generate an empty string\n",
    "str_empty = \"\"\n",
    "\n",
    "# use the type-function to check the type of object\n",
    "type(str_empty)"
   ]
  },
  {
   "cell_type": "markdown",
   "metadata": {},
   "source": [
    "An example is the string \"Welcome to this course!\"\n",
    "\n",
    "The function len() returns the length of a string. Please note that whitespaces and punctuation are also counted as characters."
   ]
  },
  {
   "cell_type": "code",
   "execution_count": 9,
   "metadata": {
    "slideshow": {
     "slide_type": "slide"
    }
   },
   "outputs": [
    {
     "name": "stdout",
     "output_type": "stream",
     "text": [
      "Welcome to this course!\n"
     ]
    }
   ],
   "source": [
    "# generate string and assign this to the object welcome\n",
    "welcome = \"Welcome to this course!\"\n",
    "\n",
    "print(welcome)"
   ]
  },
  {
   "cell_type": "code",
   "execution_count": 10,
   "metadata": {},
   "outputs": [
    {
     "data": {
      "text/plain": [
       "23"
      ]
     },
     "execution_count": 10,
     "metadata": {},
     "output_type": "execute_result"
    }
   ],
   "source": [
    "# length of this string\n",
    "len(welcome)"
   ]
  },
  {
   "cell_type": "markdown",
   "metadata": {
    "slideshow": {
     "slide_type": "slide"
    }
   },
   "source": [
    "#### Indexing\n",
    "\n",
    "An index refers to a position in an ordered list. A string can be seen as a list of characters.\n",
    "\n",
    "The function index() used on a string returns the position of the first occurrence of the element in that string, i.e. the lowest index for this element.\n",
    "\n",
    "Python uses 0-based indexing, which means that index = 0 refers to the first element, index = 1 to the second element, etc."
   ]
  },
  {
   "cell_type": "code",
   "execution_count": 11,
   "metadata": {},
   "outputs": [
    {
     "name": "stdout",
     "output_type": "stream",
     "text": [
      "Welcome to this course!\n"
     ]
    }
   ],
   "source": [
    "# let's see the string again\n",
    "print(welcome)"
   ]
  },
  {
   "cell_type": "code",
   "execution_count": 12,
   "metadata": {},
   "outputs": [
    {
     "data": {
      "text/plain": [
       "1"
      ]
     },
     "execution_count": 12,
     "metadata": {},
     "output_type": "execute_result"
    }
   ],
   "source": [
    "# the outcome is 1, since the second element of welcome is the first occurrence of the character \"e\" \n",
    "welcome.index(\"e\")"
   ]
  },
  {
   "cell_type": "code",
   "execution_count": 13,
   "metadata": {},
   "outputs": [
    {
     "data": {
      "text/plain": [
       "3"
      ]
     },
     "execution_count": 13,
     "metadata": {},
     "output_type": "execute_result"
    }
   ],
   "source": [
    "# an element can also be a combination of characters\n",
    "# the substring \"co\" starts at position nr 4 in the string, thus the index is 3 due to 0-based indexing\n",
    "welcome.index(\"co\")"
   ]
  },
  {
   "cell_type": "markdown",
   "metadata": {
    "slideshow": {
     "slide_type": "slide"
    }
   },
   "source": [
    "#### Slicing\n",
    "\n",
    "Now we do the opposite: let's use indices to get a particular substring, a set of sequential characters, from a string\n",
    "\n",
    "In general, slicing has the following form: \n",
    "\n",
    "a[start:stop]\n",
    "\n",
    "where:\n",
    "-     a = an object (for now, we start with slicing a string)\n",
    "- start = the starting position of the first character in the substring\n",
    "- stop  = the position of the first character which is NOT included in the selected slice\n",
    "\n",
    "The round brackets are used for functions, squared brackets are used for slicing\n",
    "\n",
    "From: https://stackoverflow.com/questions/509211/understanding-slice-notation"
   ]
  },
  {
   "cell_type": "markdown",
   "metadata": {
    "slideshow": {
     "slide_type": "slide"
    }
   },
   "source": [
    "Let's use indices to get a particular word from our welcome string, in this example the word \"to\"\n",
    "\n",
    "Remember, Python used 0-based indexing, e.g. index 8 refers to the 9th position in the string"
   ]
  },
  {
   "cell_type": "code",
   "execution_count": 14,
   "metadata": {},
   "outputs": [
    {
     "name": "stdout",
     "output_type": "stream",
     "text": [
      "Welcome to this course!\n"
     ]
    }
   ],
   "source": [
    "# let's see the string again\n",
    "print(welcome)"
   ]
  },
  {
   "cell_type": "code",
   "execution_count": 15,
   "metadata": {},
   "outputs": [
    {
     "data": {
      "text/plain": [
       "'to'"
      ]
     },
     "execution_count": 15,
     "metadata": {},
     "output_type": "execute_result"
    }
   ],
   "source": [
    "# \"to\" starts with the 9th position in the string (whitespaces also count as characters)\n",
    "# the first number between brackets, before the colon, refers to the starting position\n",
    "# thus the first number is 8\n",
    "# the second number, after the colon, refers to the 11th position, which is the first position not included\n",
    "# in the slice, thus the second number is 10\n",
    "\n",
    "# tip for checking: you get the number of characters in this substring by subtracting the two numbers from each other: \n",
    "# 10 minus 8 equals 2 characters\n",
    "\n",
    "# use slicing to get the substring \"to\"\n",
    "welcome[8:10]\n"
   ]
  },
  {
   "cell_type": "markdown",
   "metadata": {
    "slideshow": {
     "slide_type": "slide"
    }
   },
   "source": [
    "For slicing, you do not need to specify (both) numbers.\n",
    "\n",
    "- a[start:] - the slice starts at the specified index, and includes the rest of the array\n",
    "- a[:stop] - the slice starts at the beginning of the string, and stops at the (stop-1)th position"
   ]
  },
  {
   "cell_type": "code",
   "execution_count": 16,
   "metadata": {},
   "outputs": [
    {
     "data": {
      "text/plain": [
       "'Welcome'"
      ]
     },
     "execution_count": 16,
     "metadata": {},
     "output_type": "execute_result"
    }
   ],
   "source": [
    "# to get the first word, without a subsequent whitespace\n",
    "welcome[:7]"
   ]
  },
  {
   "cell_type": "code",
   "execution_count": 17,
   "metadata": {},
   "outputs": [
    {
     "data": {
      "text/plain": [
       "'this course!'"
      ]
     },
     "execution_count": 17,
     "metadata": {},
     "output_type": "execute_result"
    }
   ],
   "source": [
    "# to get the last two words, including the exclamation mark\n",
    "welcome[11:]"
   ]
  },
  {
   "cell_type": "code",
   "execution_count": 18,
   "metadata": {},
   "outputs": [
    {
     "data": {
      "text/plain": [
       "'Welcome to this course!'"
      ]
     },
     "execution_count": 18,
     "metadata": {},
     "output_type": "execute_result"
    }
   ],
   "source": [
    "# when you do not specify any number, you get the whole object again\n",
    "welcome[:]"
   ]
  },
  {
   "cell_type": "markdown",
   "metadata": {
    "slideshow": {
     "slide_type": "slide"
    }
   },
   "source": [
    "Negative numbers can also be used for slicing\n"
   ]
  },
  {
   "cell_type": "code",
   "execution_count": 19,
   "metadata": {},
   "outputs": [
    {
     "data": {
      "text/plain": [
       "'course'"
      ]
     },
     "execution_count": 19,
     "metadata": {},
     "output_type": "execute_result"
    }
   ],
   "source": [
    "# to get the last word without the exclamation mark\n",
    "welcome[-7:-1]\n"
   ]
  },
  {
   "cell_type": "markdown",
   "metadata": {
    "slideshow": {
     "slide_type": "slide"
    }
   },
   "source": [
    "#### Explicit step-argument in slicing\n",
    "\n",
    "You can also specify the step-argument for slicing.\n",
    "\n",
    "a[start:stop:step]\n",
    "\n",
    "where:\n",
    "\n",
    "- a = an object\n",
    "- start = the starting position of the first element\n",
    "- stop = the position of the first element which is NOT included in the selected slice\n",
    "- step = the amount by which the index increases per step. When the step argument is not specified, the default is 1\n",
    "\n",
    "From: https://stackoverflow.com/questions/509211/understanding-slice-notation"
   ]
  },
  {
   "cell_type": "code",
   "execution_count": 20,
   "metadata": {
    "slideshow": {
     "slide_type": "slide"
    }
   },
   "outputs": [],
   "source": [
    "# let's create an object with only numbers\n",
    "numbers = [2,-5,6,20,7,10,-5,-3,7,10,5,-4]"
   ]
  },
  {
   "cell_type": "code",
   "execution_count": 21,
   "metadata": {},
   "outputs": [
    {
     "data": {
      "text/plain": [
       "[-5, 20, 10, -3, 10, -4]"
      ]
     },
     "execution_count": 21,
     "metadata": {},
     "output_type": "execute_result"
    }
   ],
   "source": [
    "# now get only numbers on the even positions (position nr 2, nr 4, etc)\n",
    "# the start argument equals 1, and corresponds with the number -5 on position nr. 2\n",
    "# the step argument is 2: the index increases with 2 by each step\n",
    "# the stop argument is not specified, thus the slicing continues up to and including the end\n",
    "numbers[1::2]\n"
   ]
  },
  {
   "cell_type": "code",
   "execution_count": 22,
   "metadata": {
    "slideshow": {
     "slide_type": "-"
    }
   },
   "outputs": [
    {
     "data": {
      "text/plain": [
       "[-4, 10, -3, 10, 20, -5]"
      ]
     },
     "execution_count": 22,
     "metadata": {},
     "output_type": "execute_result"
    }
   ],
   "source": [
    "# to get the same numbers in reverse order\n",
    "numbers[:-12:-2]"
   ]
  },
  {
   "cell_type": "markdown",
   "metadata": {
    "slideshow": {
     "slide_type": "slide"
    }
   },
   "source": [
    "#### Moving from strings to lists\n",
    "\n",
    "Our infamous welcome string contains several words. The split-function returns a list of strings. By default, the whitespace is used as separator, and the resulting list contains strings, each containing one word."
   ]
  },
  {
   "cell_type": "code",
   "execution_count": 23,
   "metadata": {},
   "outputs": [
    {
     "data": {
      "text/plain": [
       "['Welcome', 'to', 'this', 'course!']"
      ]
     },
     "execution_count": 23,
     "metadata": {},
     "output_type": "execute_result"
    }
   ],
   "source": [
    "# to get a list with separate words as strings\n",
    "list_welcome = welcome.split()\n",
    "list_welcome"
   ]
  },
  {
   "cell_type": "code",
   "execution_count": 24,
   "metadata": {},
   "outputs": [
    {
     "data": {
      "text/plain": [
       "['Welcome', 'to', 'this', 'course!']"
      ]
     },
     "execution_count": 24,
     "metadata": {},
     "output_type": "execute_result"
    }
   ],
   "source": [
    "# the same result can be obtained by explicitly stating the whitespace as separator\n",
    "list_welcome_alt = welcome.split(\" \")\n",
    "list_welcome_alt"
   ]
  },
  {
   "cell_type": "code",
   "execution_count": 25,
   "metadata": {
    "slideshow": {
     "slide_type": "-"
    }
   },
   "outputs": [
    {
     "data": {
      "text/plain": [
       "['Welcome to this course',\n",
       " ' put in the hours',\n",
       " ' and you can use Python for analysis']"
      ]
     },
     "execution_count": 25,
     "metadata": {},
     "output_type": "execute_result"
    }
   ],
   "source": [
    "# you can also use a different separator, let's say a comma\n",
    "welcome_long = \"Welcome to this course, put in the hours, and you can use Python for analysis\"\n",
    "list_welcome_long = welcome_long.split(\",\")\n",
    "list_welcome_long"
   ]
  },
  {
   "cell_type": "markdown",
   "metadata": {},
   "source": [
    "This results in a list containing three elements, substrings from the original string."
   ]
  },
  {
   "cell_type": "markdown",
   "metadata": {
    "slideshow": {
     "slide_type": "slide"
    }
   },
   "source": [
    "### Python object type 2: Lists\n",
    "\n",
    "In Python, a list is an ordered sequence of items. The items of a list are put between square brackets, a comma is used to separate items from each other.\n",
    "\n",
    "Lists are very flexible, they can contain items of various data types, and lists can also contain other lists (the lists within lists are nested lists)"
   ]
  },
  {
   "cell_type": "code",
   "execution_count": 26,
   "metadata": {},
   "outputs": [
    {
     "data": {
      "text/plain": [
       "list"
      ]
     },
     "execution_count": 26,
     "metadata": {},
     "output_type": "execute_result"
    }
   ],
   "source": [
    "# to create a new list, simply use square brackets\n",
    "list_empty = []\n",
    "type(list_empty)"
   ]
  },
  {
   "cell_type": "code",
   "execution_count": 27,
   "metadata": {},
   "outputs": [
    {
     "data": {
      "text/plain": [
       "4"
      ]
     },
     "execution_count": 27,
     "metadata": {},
     "output_type": "execute_result"
    }
   ],
   "source": [
    "# this list contains four items: \n",
    "list_new = ['first_item', 58, 7, 12.25]\n",
    "\n",
    "# The length of the list shows the number of items in a list\n",
    "len(list_new) "
   ]
  },
  {
   "cell_type": "code",
   "execution_count": 28,
   "metadata": {
    "slideshow": {
     "slide_type": "slide"
    }
   },
   "outputs": [
    {
     "data": {
      "text/plain": [
       "4"
      ]
     },
     "execution_count": 28,
     "metadata": {},
     "output_type": "execute_result"
    }
   ],
   "source": [
    "# this list also contains four items:\n",
    "list_new2 = ['first_item', 58, [5.00, 7, 'last_item_nested_list'], 12.25]\n",
    "\n",
    "len(list_new2)"
   ]
  },
  {
   "cell_type": "code",
   "execution_count": 29,
   "metadata": {},
   "outputs": [
    {
     "name": "stdout",
     "output_type": "stream",
     "text": [
      "[5.0, 7, 'last_item_nested_list']\n"
     ]
    }
   ],
   "source": [
    "# to print the nested list (third item of list_new2)\n",
    "print(list_new2[2])"
   ]
  },
  {
   "cell_type": "markdown",
   "metadata": {
    "slideshow": {
     "slide_type": "slide"
    }
   },
   "source": [
    "#### Slicing list\n",
    "\n",
    "Lists can be sliced in similar ways as strings. "
   ]
  },
  {
   "cell_type": "code",
   "execution_count": 30,
   "metadata": {},
   "outputs": [
    {
     "data": {
      "text/plain": [
       "[2, 5, 9, 4.57]"
      ]
     },
     "execution_count": 30,
     "metadata": {},
     "output_type": "execute_result"
    }
   ],
   "source": [
    "# let's create a new list\n",
    "list_long = [2, 5, 9, 4.57, 'dogs', 7, 'cats', 80, 9.34, 'snakes']\n",
    "\n",
    "# to select the first four items of this list\n",
    "# the fifth item (with index 4) is not selected anymore\n",
    "list_long[:4]"
   ]
  },
  {
   "cell_type": "code",
   "execution_count": 31,
   "metadata": {},
   "outputs": [
    {
     "data": {
      "text/plain": [
       "[5, 4.57, 7, 80, 'snakes']"
      ]
     },
     "execution_count": 31,
     "metadata": {},
     "output_type": "execute_result"
    }
   ],
   "source": [
    "# to get the even items from this list\n",
    "list_long[1::2]"
   ]
  },
  {
   "cell_type": "code",
   "execution_count": 32,
   "metadata": {
    "slideshow": {
     "slide_type": "slide"
    }
   },
   "outputs": [
    {
     "name": "stdout",
     "output_type": "stream",
     "text": [
      "['dogs', 'cats', 'snakes']\n"
     ]
    }
   ],
   "source": [
    "# use for-loop to get only strings from a list\n",
    "# to create an empty list\n",
    "list_strings_only = []\n",
    "\n",
    "for item in list_long:                     \n",
    "    if type(item) == str: # check whether the item is a string, result is either True or False\n",
    "        #print(item)\n",
    "        list_strings_only.append(item)      # add item to list only if the if-condition is True\n",
    "\n",
    "print(list_strings_only)"
   ]
  },
  {
   "cell_type": "markdown",
   "metadata": {
    "slideshow": {
     "slide_type": "slide"
    }
   },
   "source": [
    "#### Indentation in loops\n",
    "\n",
    "In Python, indentation is important. Compare the output from this code block to the previous slide. At the end of every iteration, the list is printed. Since we use append(), we can see that an item is added to the list when the condition is true. This is because the print-statement is indented within the if-function. "
   ]
  },
  {
   "cell_type": "code",
   "execution_count": 33,
   "metadata": {},
   "outputs": [
    {
     "name": "stdout",
     "output_type": "stream",
     "text": [
      "['dogs']\n",
      "['dogs', 'cats']\n",
      "['dogs', 'cats', 'snakes']\n"
     ]
    }
   ],
   "source": [
    "list_strings_only = []\n",
    "\n",
    "for item in list_long:                     \n",
    "    if type(item) == str:                  # check whether the item is a string, result is either True or False\n",
    "        list_strings_only.append(item)     # add item to list only if the if-condition is True\n",
    "        print(list_strings_only)"
   ]
  },
  {
   "cell_type": "markdown",
   "metadata": {
    "slideshow": {
     "slide_type": "slide"
    }
   },
   "source": [
    "Can you explain the following result?"
   ]
  },
  {
   "cell_type": "code",
   "execution_count": 34,
   "metadata": {},
   "outputs": [
    {
     "name": "stdout",
     "output_type": "stream",
     "text": [
      "[]\n",
      "[]\n",
      "[]\n",
      "[]\n",
      "['dogs']\n",
      "['dogs']\n",
      "['dogs', 'cats']\n",
      "['dogs', 'cats']\n",
      "['dogs', 'cats']\n",
      "['dogs', 'cats', 'snakes']\n"
     ]
    }
   ],
   "source": [
    "list_strings_only = []\n",
    "\n",
    "for item in list_long:                     \n",
    "    if type(item) == str:                  # check whether the item is a string, result is either True or False\n",
    "        list_strings_only.append(item)     # add item to list only if the if-condition is True\n",
    "    print(list_strings_only)"
   ]
  },
  {
   "cell_type": "markdown",
   "metadata": {
    "slideshow": {
     "slide_type": "slide"
    }
   },
   "source": [
    "#### Differences between lists and strings\n",
    "\n",
    "Lists are mutable, strings are not."
   ]
  },
  {
   "cell_type": "code",
   "execution_count": 35,
   "metadata": {},
   "outputs": [
    {
     "data": {
      "text/plain": [
       "'Welcome to this course, put in the hours, and you can use Python for analysis'"
      ]
     },
     "execution_count": 35,
     "metadata": {},
     "output_type": "execute_result"
    }
   ],
   "source": [
    "# recap the string welcome_long\n",
    "welcome_long "
   ]
  },
  {
   "cell_type": "code",
   "execution_count": 36,
   "metadata": {},
   "outputs": [],
   "source": [
    "#welcome_long[1] = \"e\"\n",
    "\n",
    "# error notification due to string being immutable"
   ]
  },
  {
   "cell_type": "code",
   "execution_count": 37,
   "metadata": {
    "slideshow": {
     "slide_type": "slide"
    }
   },
   "outputs": [
    {
     "data": {
      "text/plain": [
       "[2, 5, 9, 4.57, 'dogs', 7, 'cats', 80, 9.34, 'snakes']"
      ]
     },
     "execution_count": 37,
     "metadata": {},
     "output_type": "execute_result"
    }
   ],
   "source": [
    "# recap long list\n",
    "list_long"
   ]
  },
  {
   "cell_type": "code",
   "execution_count": 38,
   "metadata": {},
   "outputs": [
    {
     "data": {
      "text/plain": [
       "[2, 'e', 9, 4.57, 'dogs', 7, 'cats', 80, 9.34, 'snakes']"
      ]
     },
     "execution_count": 38,
     "metadata": {},
     "output_type": "execute_result"
    }
   ],
   "source": [
    "# change the first item\n",
    "list_long[1] = \"e\"\n",
    "list_long"
   ]
  },
  {
   "cell_type": "markdown",
   "metadata": {
    "slideshow": {
     "slide_type": "slide"
    }
   },
   "source": [
    "#### Functions for mutable lists\n",
    "\n"
   ]
  },
  {
   "cell_type": "code",
   "execution_count": 39,
   "metadata": {},
   "outputs": [
    {
     "data": {
      "text/plain": [
       "[2, 'e', 9, 4.57, 'dogs', 7, 'cats', 80, 9.34, 'snakes', 'rabbits']"
      ]
     },
     "execution_count": 39,
     "metadata": {},
     "output_type": "execute_result"
    }
   ],
   "source": [
    "# with the append-function, you can add an item to the end of the list\n",
    "list_long.append('rabbits')\n",
    "list_long"
   ]
  },
  {
   "cell_type": "code",
   "execution_count": 40,
   "metadata": {},
   "outputs": [
    {
     "data": {
      "text/plain": [
       "[2, 'e', 9, 'pigs', 4.57, 'dogs', 7, 'cats', 80, 9.34, 'snakes', 'rabbits']"
      ]
     },
     "execution_count": 40,
     "metadata": {},
     "output_type": "execute_result"
    }
   ],
   "source": [
    "# with the insert-function, you can add an item to the list at a position specified by an index\n",
    "list_long.insert(3,'pigs')\n",
    "list_long"
   ]
  },
  {
   "cell_type": "code",
   "execution_count": 41,
   "metadata": {},
   "outputs": [
    {
     "data": {
      "text/plain": [
       "[2, 'e', 9, 4.57, 'dogs', 7, 'cats', 80, 9.34, 'snakes', 'rabbits']"
      ]
     },
     "execution_count": 41,
     "metadata": {},
     "output_type": "execute_result"
    }
   ],
   "source": [
    "# with the remove-function, you can remove a specific item from the list\n",
    "list_long.remove('pigs')\n",
    "list_long"
   ]
  },
  {
   "cell_type": "markdown",
   "metadata": {
    "slideshow": {
     "slide_type": "slide"
    }
   },
   "source": [
    "### Python object type 3: Dictionaries\n",
    "\n",
    "Dictionaries is a collection which is unordered and changeable.\n",
    "\n",
    "Dictionaries contain key-value pairs, specific values can be looked up by using a key."
   ]
  },
  {
   "cell_type": "code",
   "execution_count": 42,
   "metadata": {},
   "outputs": [],
   "source": [
    "# dictionaries are depicted by parentheses. \n",
    "# to create a new dictionary\n",
    "python_scores = {}"
   ]
  },
  {
   "cell_type": "code",
   "execution_count": 43,
   "metadata": {},
   "outputs": [],
   "source": [
    "# example of dictionary with Python scores\n",
    "# names are the keys, with Python scores as corresponding values\n",
    "# key-value pairs ('key: value') are separated by commas\n",
    "python_scores = {'bas': '7', 'robert': '8', 'susie': '7', 'timmy': '6', 'michael': '5', 'richard': '7'}"
   ]
  },
  {
   "cell_type": "code",
   "execution_count": 44,
   "metadata": {},
   "outputs": [
    {
     "data": {
      "text/plain": [
       "'8'"
      ]
     },
     "execution_count": 44,
     "metadata": {},
     "output_type": "execute_result"
    }
   ],
   "source": [
    "# use the key to get a specific value\n",
    "python_scores['robert']"
   ]
  },
  {
   "cell_type": "markdown",
   "metadata": {
    "slideshow": {
     "slide_type": "slide"
    }
   },
   "source": [
    "#### Slicing with dictionaries...\n",
    "\n",
    "Does not work: since a dictionary is not a sequence, we cannot slice a dictionary.\n",
    "\n",
    "However, we can use a selection of keys to retrieve corresponding values."
   ]
  },
  {
   "cell_type": "code",
   "execution_count": 45,
   "metadata": {},
   "outputs": [
    {
     "name": "stdout",
     "output_type": "stream",
     "text": [
      "dict_keys(['bas', 'robert', 'susie', 'timmy', 'michael', 'richard'])\n"
     ]
    }
   ],
   "source": [
    "score_keys = python_scores.keys()\n",
    "\n",
    "print(score_keys)"
   ]
  },
  {
   "cell_type": "code",
   "execution_count": 46,
   "metadata": {},
   "outputs": [
    {
     "name": "stdout",
     "output_type": "stream",
     "text": [
      "['robert', 'richard']\n"
     ]
    }
   ],
   "source": [
    "# create an empty list\n",
    "keys_selected = []\n",
    "\n",
    "for key in python_scores:\n",
    "    if key[0] == 'r':\n",
    "        keys_selected.append(key)\n",
    "        \n",
    "print(keys_selected)"
   ]
  },
  {
   "cell_type": "code",
   "execution_count": 47,
   "metadata": {
    "slideshow": {
     "slide_type": "slide"
    }
   },
   "outputs": [
    {
     "name": "stdout",
     "output_type": "stream",
     "text": [
      "['8', '7']\n"
     ]
    }
   ],
   "source": [
    "# to create a list with values corresponding with keys\n",
    "list_scores = []\n",
    "for key in keys_selected:\n",
    "    list_scores.append(python_scores[key])\n",
    "\n",
    "print(list_scores)"
   ]
  },
  {
   "cell_type": "code",
   "execution_count": 48,
   "metadata": {},
   "outputs": [
    {
     "name": "stdout",
     "output_type": "stream",
     "text": [
      "['8', '7']\n"
     ]
    }
   ],
   "source": [
    "# alternatively, using list comprehension\n",
    "list_scores2 = [python_scores[key] for key in keys_selected]\n",
    "print(list_scores2)"
   ]
  },
  {
   "cell_type": "markdown",
   "metadata": {
    "slideshow": {
     "slide_type": "slide"
    }
   },
   "source": [
    "### Intermezzo: libraries and functions\n",
    "\n",
    "Python has standard built-in functions. However, quite often you need a specific function from a specific library.\n",
    "\n",
    "Libraries need to be installed on your machine before you can use them.\n",
    "\n",
    "The standard way to install them is to use the Preferred Installer Program (pip)\n",
    "\n",
    "To install a library, run the following code from the command line:\n",
    "\n",
    "`python -m pip install SomeLibrary`\n",
    "\n",
    "More information: https://docs.python.org/3/installing/index.html"
   ]
  },
  {
   "cell_type": "markdown",
   "metadata": {},
   "source": [
    "After installment, you need to use the import statement to load a library"
   ]
  },
  {
   "cell_type": "code",
   "execution_count": 49,
   "metadata": {},
   "outputs": [
    {
     "ename": "ModuleNotFoundError",
     "evalue": "No module named 'pandas'",
     "output_type": "error",
     "traceback": [
      "\u001b[0;31m---------------------------------------------------------------------------\u001b[0m",
      "\u001b[0;31mModuleNotFoundError\u001b[0m                       Traceback (most recent call last)",
      "Cell \u001b[0;32mIn[49], line 2\u001b[0m\n\u001b[1;32m      1\u001b[0m \u001b[38;5;66;03m# let's import the library pandas, a Python library which contains many functions for data manipulation\u001b[39;00m\n\u001b[0;32m----> 2\u001b[0m \u001b[38;5;28;01mimport\u001b[39;00m \u001b[38;5;21;01mpandas\u001b[39;00m \u001b[38;5;28;01mas\u001b[39;00m \u001b[38;5;21;01mpd\u001b[39;00m\n",
      "\u001b[0;31mModuleNotFoundError\u001b[0m: No module named 'pandas'"
     ]
    }
   ],
   "source": [
    "# let's import the library pandas, a Python library which contains many functions for data manipulation\n",
    "import pandas as pd"
   ]
  },
  {
   "cell_type": "code",
   "execution_count": null,
   "metadata": {},
   "outputs": [],
   "source": [
    "# we can use the modules-function in the sys module to check whether a specific library was imported\n",
    "import sys\n",
    "'pandas' in sys.modules"
   ]
  },
  {
   "cell_type": "markdown",
   "metadata": {
    "slideshow": {
     "slide_type": "slide"
    }
   },
   "source": [
    "## Dataframes\n",
    "\n",
    "A dataframe is a 2-dimensional labeled data structure with columns of potentially different types. Data is aligned in a tabular fashion, with rows and columns. Rows have indices assigned to them, and columns are depicted by labels. A dataframe is a specific list, with columns of equal length.\n",
    "\n",
    "Dataframe can be created in various ways with pandas:\n",
    "\n",
    "- way 1: creating a DataFrame from various dictionaries\n",
    "- way 2: creating a DataFrame from a list of dictionaries\n",
    "- way 3: creating a DataFrame from reading files\n",
    "\n"
   ]
  },
  {
   "cell_type": "markdown",
   "metadata": {
    "slideshow": {
     "slide_type": "slide"
    }
   },
   "source": [
    "### Way 1: Creating a dataframe from various dictionaries\n",
    "\n",
    "This way, the keys are the column labels, the dictionary values are the data values in the DataFrame"
   ]
  },
  {
   "cell_type": "code",
   "execution_count": null,
   "metadata": {},
   "outputs": [],
   "source": [
    "subjects_scores = {\n",
    "    'name': ['laura', 'robert', 'susie', 'timmy', 'bas'],\n",
    "    'subjects': ['maths', 'physics', 'programming', 'chemistry', 'maths'],\n",
    "    'scores': ['8', '7', '7', '6', '5'],\n",
    "    'completed': 100        # column specifying how much of the subject is completed,\n",
    "                            # when using one value (here 100), this value will be assigned to every record\n",
    "}\n",
    "\n",
    "df_scores = pd.DataFrame(subjects_scores, columns=['name', 'subjects', 'scores', 'completed'])\n",
    "print(df_scores)"
   ]
  },
  {
   "cell_type": "code",
   "execution_count": null,
   "metadata": {
    "slideshow": {
     "slide_type": "slide"
    }
   },
   "outputs": [],
   "source": [
    "# to get the number of dimensions of a dataframe\n",
    "df_scores.ndim\n"
   ]
  },
  {
   "cell_type": "code",
   "execution_count": null,
   "metadata": {},
   "outputs": [],
   "source": [
    "# to get the number of data values across each dimension\n",
    "df_scores.shape"
   ]
  },
  {
   "cell_type": "code",
   "execution_count": null,
   "metadata": {},
   "outputs": [],
   "source": [
    "# to get the number of rows in a DataFrame\n",
    "df_scores.shape[0]"
   ]
  },
  {
   "cell_type": "code",
   "execution_count": null,
   "metadata": {
    "scrolled": true
   },
   "outputs": [],
   "source": [
    "# to get the number of columns in a DataFrame\n",
    "df_scores.shape[1]"
   ]
  },
  {
   "cell_type": "code",
   "execution_count": null,
   "metadata": {},
   "outputs": [],
   "source": [
    "# to get the number of elements in a DataFrame\n",
    "df_scores.size"
   ]
  },
  {
   "cell_type": "markdown",
   "metadata": {
    "slideshow": {
     "slide_type": "slide"
    }
   },
   "source": [
    "### Way 2: Creating a dataframe from a list of dictionaries\n",
    "When having dictionaries with the same keys, you can create a dataframe by using the DataFrame function from the Pandas module.\n",
    "\n",
    "More info for next time: https://thispointer.com/pandas-create-dataframe-from-list-of-dictionaries/"
   ]
  },
  {
   "cell_type": "code",
   "execution_count": null,
   "metadata": {},
   "outputs": [],
   "source": [
    "subjects_scores_list = [\n",
    "    {'name': 'laura', 'subjects': 'maths', 'scores': 8, 'completed': 100},\n",
    "    {'name': 'robert', 'subjects': 'physics', 'scores': 7, 'completed': 100},\n",
    "    {'name': 'susie', 'subjects': 'programming', 'scores': 7, 'completed': 100},\n",
    "    {'name': 'timmy', 'subjects': 'chemistry', 'scores': 6, 'completed': 100},\n",
    "    {'name': 'bas', 'subjects': 'maths', 'scores': 5, 'completed': 100}\n",
    "]\n",
    "\n",
    "df_scores2 = pd.DataFrame(subjects_scores_list) # when not further specified, \n",
    "                                                # Python automatically assigns indices starting from 0\n",
    "print(df_scores2)"
   ]
  },
  {
   "cell_type": "code",
   "execution_count": null,
   "metadata": {
    "slideshow": {
     "slide_type": "slide"
    }
   },
   "outputs": [],
   "source": [
    "# you can also specify the indices assigned to the various records\n",
    "\n",
    "df_scores3 = pd.DataFrame(subjects_scores_list, index = ['a', 'b', 'c', 'd', 'e'])\n",
    "print(df_scores3)"
   ]
  },
  {
   "cell_type": "code",
   "execution_count": null,
   "metadata": {},
   "outputs": [],
   "source": [
    "# you can also rearrange columns in your dataframe\n",
    "\n",
    "df_scores4 = pd.DataFrame(subjects_scores_list, columns = ['name', 'subjects', 'completed', 'scores'])\n",
    "print(df_scores4)"
   ]
  },
  {
   "cell_type": "markdown",
   "metadata": {
    "slideshow": {
     "slide_type": "slide"
    }
   },
   "source": [
    "### Way 3: Creating a dataframe from reading files\n",
    "\n",
    "A Comma Separated Values (CSV) file is an often used format. With the read_csv() function of the pandas module, you can directly read a dataset into dataframe format\n",
    "\n",
    "Further reading: https://realpython.com/pandas-read-write-files/#read-a-csv-file\n",
    "\n"
   ]
  },
  {
   "cell_type": "markdown",
   "metadata": {
    "slideshow": {
     "slide_type": "slide"
    }
   },
   "source": [
    "### Example mtcars\n",
    "\n",
    "In the following slides, we will use the mtcars dataset to demonstrate functions.\n",
    "\n",
    "Use the Pathlib module, in order for Python code to work on both Windows and Mac/Linux.\n",
    "\n",
    "(https://medium.com/@ageitgey/python-3-quick-tip-the-easy-way-to-deal-with-file-paths-on-windows-mac-and-linux-11a072b58d5f)\n"
   ]
  },
  {
   "cell_type": "code",
   "execution_count": null,
   "metadata": {
    "slideshow": {
     "slide_type": "slide"
    }
   },
   "outputs": [],
   "source": [
    "import pathlib\n",
    "from pathlib import Path\n",
    "\n",
    "# you can specify your own data_folder \n",
    "data_folder = Path(\"../../programma/datasets/\")\n",
    "\n",
    "file_to_open = data_folder / \"mtcars.csv\"\n",
    "\n",
    "mtcars = pd.read_csv(file_to_open)\n",
    "\n",
    "mtcars.head()"
   ]
  },
  {
   "cell_type": "code",
   "execution_count": null,
   "metadata": {
    "slideshow": {
     "slide_type": "slide"
    }
   },
   "outputs": [],
   "source": [
    "list(mtcars.columns)"
   ]
  },
  {
   "cell_type": "code",
   "execution_count": null,
   "metadata": {},
   "outputs": [],
   "source": [
    "# Edit element of column header, replace \"Unnamed: 0\" with \"brand\"\n",
    "mtcars = mtcars.rename(columns={\"Unnamed: 0\":\"brand\"})\n",
    "\n",
    "mtcars.head()"
   ]
  },
  {
   "cell_type": "code",
   "execution_count": null,
   "metadata": {
    "slideshow": {
     "slide_type": "slide"
    }
   },
   "outputs": [],
   "source": [
    "# to check column names\n",
    "print(mtcars.columns)"
   ]
  },
  {
   "cell_type": "code",
   "execution_count": null,
   "metadata": {},
   "outputs": [],
   "source": [
    "list(mtcars.columns)"
   ]
  },
  {
   "cell_type": "code",
   "execution_count": null,
   "metadata": {
    "slideshow": {
     "slide_type": "slide"
    }
   },
   "outputs": [],
   "source": [
    "mtcars.shape"
   ]
  },
  {
   "cell_type": "code",
   "execution_count": null,
   "metadata": {
    "slideshow": {
     "slide_type": "-"
    }
   },
   "outputs": [],
   "source": [
    "# mtcars has 32 rows\n",
    "mtcars.shape[0]"
   ]
  },
  {
   "cell_type": "code",
   "execution_count": null,
   "metadata": {},
   "outputs": [],
   "source": [
    "# ... and 12 columns. \n",
    "mtcars.shape[1]"
   ]
  },
  {
   "cell_type": "code",
   "execution_count": null,
   "metadata": {},
   "outputs": [],
   "source": [
    "# please note that the first column of mtcars is the \"brand\" column, not one containing indices\n",
    "mtcars.iloc[:,0]"
   ]
  },
  {
   "cell_type": "code",
   "execution_count": null,
   "metadata": {
    "slideshow": {
     "slide_type": "slide"
    }
   },
   "outputs": [],
   "source": [
    "# display the structure of a dataframe\n",
    "mtcars.info()"
   ]
  },
  {
   "cell_type": "markdown",
   "metadata": {
    "slideshow": {
     "slide_type": "slide"
    }
   },
   "source": [
    "### Slicing data frames by row"
   ]
  },
  {
   "cell_type": "code",
   "execution_count": null,
   "metadata": {},
   "outputs": [],
   "source": [
    "# Slicing by index number\n",
    "mtcars.iloc[23,]"
   ]
  },
  {
   "cell_type": "code",
   "execution_count": null,
   "metadata": {},
   "outputs": [],
   "source": [
    "# Slicing using brand name\n",
    "mtcars[mtcars.brand == \"Camaro Z28\"]"
   ]
  },
  {
   "cell_type": "markdown",
   "metadata": {
    "slideshow": {
     "slide_type": "slide"
    }
   },
   "source": [
    "### Slicing data frames by row\n",
    "\n",
    "Index by **logical expression**, for instance all cars with automatic transmission."
   ]
  },
  {
   "cell_type": "code",
   "execution_count": null,
   "metadata": {},
   "outputs": [],
   "source": [
    "mtcars[mtcars.am == 1]"
   ]
  },
  {
   "cell_type": "markdown",
   "metadata": {},
   "source": [
    "Other logical expressions: <, >, <=, >=, !=, |, &. **Try them!**"
   ]
  },
  {
   "cell_type": "markdown",
   "metadata": {
    "slideshow": {
     "slide_type": "slide"
    }
   },
   "source": [
    "### Slicing data frames by column\n",
    "\n",
    "To select only one column, use square brackets"
   ]
  },
  {
   "cell_type": "code",
   "execution_count": null,
   "metadata": {},
   "outputs": [],
   "source": [
    "mtcars[\"hp\"]"
   ]
  },
  {
   "cell_type": "markdown",
   "metadata": {
    "slideshow": {
     "slide_type": "slide"
    }
   },
   "source": [
    "### Slicing data frames by column\n",
    "\n",
    "The same can be achieved by using the index for column hp. Since this is the fifth column, the corresponding index is 4."
   ]
  },
  {
   "cell_type": "code",
   "execution_count": null,
   "metadata": {},
   "outputs": [],
   "source": [
    "mtcars.iloc[:,4]"
   ]
  },
  {
   "cell_type": "markdown",
   "metadata": {
    "slideshow": {
     "slide_type": "slide"
    }
   },
   "source": [
    "### Exercise: slicing data frames by row\n",
    "\n",
    "Select only rows of cars with 100+ horsepower and 5 gears"
   ]
  },
  {
   "cell_type": "markdown",
   "metadata": {
    "slideshow": {
     "slide_type": "slide"
    }
   },
   "source": [
    "### Solution: slicing data frames by row\n",
    "\n",
    "Select only rows of cars with 100+ horsepower and 5 gears"
   ]
  },
  {
   "cell_type": "code",
   "execution_count": null,
   "metadata": {},
   "outputs": [],
   "source": [
    "# the rounded brackets are needed for proper slicing\n",
    "mtcars[(mtcars.hp >= 100) & (mtcars.gear == 5)]"
   ]
  },
  {
   "cell_type": "markdown",
   "metadata": {
    "slideshow": {
     "slide_type": "slide"
    }
   },
   "source": [
    "### Help function in Python\n",
    "\n",
    "Python's help() function invokes the interactive built-in help system"
   ]
  },
  {
   "cell_type": "code",
   "execution_count": null,
   "metadata": {},
   "outputs": [],
   "source": [
    "help(min)"
   ]
  },
  {
   "cell_type": "markdown",
   "metadata": {
    "slideshow": {
     "slide_type": "slide"
    }
   },
   "source": [
    "### Loops and functions\n",
    "\n",
    "- For loops\n",
    "- Repeat, break\n",
    "- Basic functions\n",
    "- Create your own functions"
   ]
  },
  {
   "cell_type": "markdown",
   "metadata": {
    "slideshow": {
     "slide_type": "slide"
    }
   },
   "source": [
    "### For loop\n",
    "\n",
    "Use a For-loop when the number of iterations is predefined.\n",
    "Also be aware of the indentation.\n",
    "\n",
    "Syntax in Python:"
   ]
  },
  {
   "cell_type": "code",
   "execution_count": null,
   "metadata": {},
   "outputs": [],
   "source": [
    "for i in range(10):\n",
    "    print(i)    # this is an example of a statement"
   ]
  },
  {
   "cell_type": "markdown",
   "metadata": {
    "slideshow": {
     "slide_type": "slide"
    }
   },
   "source": [
    "### While loop\n",
    "\n",
    "Use a While-loop when the number of iterations is not predefined"
   ]
  },
  {
   "cell_type": "code",
   "execution_count": null,
   "metadata": {},
   "outputs": [],
   "source": [
    "number = 0\n",
    "while number**2 < 39:\n",
    "    print(number)\n",
    "    number += 1    # this means you add 1 to the value of number"
   ]
  },
  {
   "cell_type": "markdown",
   "metadata": {
    "slideshow": {
     "slide_type": "slide"
    }
   },
   "source": [
    "Also note that the print-statement must be within the loop if you like to print a number during every iteration. Compare the following syntax."
   ]
  },
  {
   "cell_type": "code",
   "execution_count": null,
   "metadata": {},
   "outputs": [],
   "source": [
    "number = 0\n",
    "while number**2 < 39:\n",
    "    number += 1\n",
    "    print(number)    "
   ]
  },
  {
   "cell_type": "code",
   "execution_count": null,
   "metadata": {},
   "outputs": [],
   "source": [
    "number = 0\n",
    "while number**2 < 39:\n",
    "    number += 1\n",
    "print(number)  "
   ]
  },
  {
   "cell_type": "markdown",
   "metadata": {
    "slideshow": {
     "slide_type": "slide"
    }
   },
   "source": [
    "### Functions\n",
    "\n",
    "There are numerous basic built-in functions implemented in Python. You can even get more functions by installing more Python libraries. \n",
    "\n",
    "Some built-in functions we have seen: max(), print(), range().\n",
    "\n",
    "A list of built-in functions can be found [here](https://docs.python.org/3/library/functions.html)"
   ]
  },
  {
   "cell_type": "markdown",
   "metadata": {
    "slideshow": {
     "slide_type": "slide"
    }
   },
   "source": [
    "### Functions\n",
    "\n",
    "It is also possible in Python to create your own function. \n",
    "\n",
    "First you need to define your function (beware of the indentation!):"
   ]
  },
  {
   "cell_type": "code",
   "execution_count": null,
   "metadata": {},
   "outputs": [],
   "source": [
    "# in order to \"add\", both parts need to be a string\n",
    "\n",
    "def printMaxAndMin(vData):\n",
    "    print(\"The maximum is: \" + str(max(vData)))\n",
    "    print(\"The minimum is: \" + str(min(vData)))\n",
    "   "
   ]
  },
  {
   "cell_type": "code",
   "execution_count": null,
   "metadata": {},
   "outputs": [],
   "source": [
    "# create data as input for defined function printMaxAndMin\n",
    "import numpy as np\n",
    "# we use the random.normal() function in numpy to generate 100 numbers from a normal distribution with mean = 50 and sd = 10\n",
    "# we convert the outcome into a Pandas series object so we can use the describe() function within the Pandas library\n",
    "var1 = pd.Series(np.random.normal(loc = 50, scale = 10, size = 100))\n",
    "var1.describe()"
   ]
  },
  {
   "cell_type": "code",
   "execution_count": null,
   "metadata": {
    "slideshow": {
     "slide_type": "slide"
    }
   },
   "outputs": [],
   "source": [
    "# let's invoke our function now!\n",
    "printMaxAndMin(var1)"
   ]
  },
  {
   "cell_type": "markdown",
   "metadata": {
    "slideshow": {
     "slide_type": "slide"
    }
   },
   "source": [
    "### String format method\n",
    "\n",
    "With this method, you can insert values in string placeholders"
   ]
  },
  {
   "cell_type": "code",
   "execution_count": null,
   "metadata": {},
   "outputs": [],
   "source": [
    "\"For {}, the maximum group size is {} students\".format(\"CPP DS&AI\", 15)"
   ]
  },
  {
   "cell_type": "markdown",
   "metadata": {
    "slideshow": {
     "slide_type": "slide"
    }
   },
   "source": [
    "### Exercise functions\n",
    "\n",
    "Now create your own function! Make a function that prints the mpg and hp for a given car in the mtcars dataset.\n",
    "\n",
    "Advanced: Then use a for-statement to print the information for all cars.\n",
    "\n",
    "Tip: use mtcars.brand[0] to get the first carname "
   ]
  },
  {
   "cell_type": "code",
   "execution_count": null,
   "metadata": {},
   "outputs": [],
   "source": [
    "mtcars.brand[0]"
   ]
  },
  {
   "cell_type": "markdown",
   "metadata": {
    "slideshow": {
     "slide_type": "slide"
    }
   },
   "source": [
    "### Solution functions (I)"
   ]
  },
  {
   "cell_type": "code",
   "execution_count": null,
   "metadata": {},
   "outputs": [],
   "source": [
    "# define the function\n",
    "def printCarInformation(car):\n",
    "    str_combined = \"The {} car drives {} miles per gallon and has {} hp\".format(mtcars.brand[car], mtcars.mpg[car], mtcars.hp[car])\n",
    "    print(str_combined)"
   ]
  },
  {
   "cell_type": "code",
   "execution_count": null,
   "metadata": {},
   "outputs": [],
   "source": [
    "# invoke function for the first car\n",
    "printCarInformation(0)"
   ]
  },
  {
   "cell_type": "markdown",
   "metadata": {
    "slideshow": {
     "slide_type": "slide"
    }
   },
   "source": [
    "### Solution functions (II)"
   ]
  },
  {
   "cell_type": "code",
   "execution_count": null,
   "metadata": {
    "slideshow": {
     "slide_type": "-"
    }
   },
   "outputs": [],
   "source": [
    "# invoke function for all cars\n",
    "for i in range(len(mtcars)):\n",
    "    printCarInformation(i)"
   ]
  }
 ],
 "metadata": {
  "celltoolbar": "Slideshow",
  "kernelspec": {
   "display_name": "Python 3 (ipykernel)",
   "language": "python",
   "name": "python3"
  },
  "language_info": {
   "codemirror_mode": {
    "name": "ipython",
    "version": 3
   },
   "file_extension": ".py",
   "mimetype": "text/x-python",
   "name": "python",
   "nbconvert_exporter": "python",
   "pygments_lexer": "ipython3",
   "version": "3.12.7"
  },
  "rise": {
   "autolaunch": false,
   "backimage": "./png/python-achtergrond-dikw-licht.png",
   "enable_chalkboard": false,
   "theme": "simpel"
  },
  "varInspector": {
   "cols": {
    "lenName": 16,
    "lenType": 16,
    "lenVar": 40
   },
   "kernels_config": {
    "python": {
     "delete_cmd_postfix": "",
     "delete_cmd_prefix": "del ",
     "library": "var_list.py",
     "varRefreshCmd": "print(var_dic_list())"
    },
    "r": {
     "delete_cmd_postfix": ") ",
     "delete_cmd_prefix": "rm(",
     "library": "var_list.r",
     "varRefreshCmd": "cat(var_dic_list()) "
    }
   },
   "types_to_exclude": [
    "module",
    "function",
    "builtin_function_or_method",
    "instance",
    "_Feature"
   ],
   "window_display": false
  }
 },
 "nbformat": 4,
 "nbformat_minor": 4
}
